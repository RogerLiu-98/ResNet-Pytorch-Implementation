{
 "cells": [
  {
   "cell_type": "code",
   "execution_count": 1,
   "metadata": {
    "collapsed": true
   },
   "outputs": [],
   "source": [
    "import torch, torchvision\n",
    "from torch import nn\n",
    "import torchvision.transforms as T\n",
    "\n",
    "import os\n",
    "import numpy as np\n",
    "import matplotlib.pyplot as plt\n",
    "import random\n",
    "from tqdm import tqdm\n",
    "from lib.ResNet import ResNet50\n",
    "from utils.data_loader import get_loader\n",
    "from sklearn.metrics import f1_score, precision_score, recall_score\n"
   ]
  },
  {
   "cell_type": "code",
   "execution_count": 2,
   "outputs": [],
   "source": [
    "class MNISTConfig():\n",
    "\n",
    "    EPOCHS = 10\n",
    "\n",
    "    BATCH_SIZE = 256\n",
    "\n",
    "    LR = 1e-3\n",
    "\n",
    "    WEIGHT_DECAY = 1e-3\n",
    "\n",
    "    DECAY_RATE = 0.1\n",
    "\n",
    "    DECAY_EPOCH = 5\n",
    "\n",
    "    DATA_PATH = 'datasets'\n",
    "\n",
    "    SAVE_PATH = 'models'"
   ],
   "metadata": {
    "collapsed": false,
    "pycharm": {
     "name": "#%%\n"
    }
   }
  },
  {
   "cell_type": "code",
   "execution_count": 3,
   "outputs": [],
   "source": [
    "transform = T.Compose([\n",
    "    T.ToTensor(),\n",
    "    T.Normalize(\n",
    "        (0.1307,), (0.3081,)\n",
    "    )\n",
    "])"
   ],
   "metadata": {
    "collapsed": false,
    "pycharm": {
     "name": "#%%\n"
    }
   }
  },
  {
   "cell_type": "code",
   "execution_count": 4,
   "outputs": [],
   "source": [
    "train_loader, val_loader = get_loader(root_dir=MNISTConfig.DATA_PATH,\n",
    "                                      transform=transform,\n",
    "                                      train=True,\n",
    "                                      batchsize=MNISTConfig.BATCH_SIZE)"
   ],
   "metadata": {
    "collapsed": false,
    "pycharm": {
     "name": "#%%\n"
    }
   }
  },
  {
   "cell_type": "code",
   "execution_count": 5,
   "outputs": [
    {
     "data": {
      "text/plain": "<Figure size 1152x1152 with 4 Axes>",
      "image/png": "[encoded data removed]"
     },
     "metadata": {
      "needs_background": "light"
     },
     "output_type": "display_data"
    }
   ],
   "source": [
    "# Show first 4 images\n",
    "for imgs, gts in train_loader:\n",
    "    plt.figure(figsize=(16, 16))\n",
    "    plt.subplot(141)\n",
    "    plt.title('Ground truth: {}'.format(gts[0]))\n",
    "    plt.imshow(imgs[0][0], cmap='gray')\n",
    "    plt.subplot(142)\n",
    "    plt.title('Ground truth: {}'.format(gts[1]))\n",
    "    plt.imshow(imgs[1][0], cmap='gray')\n",
    "    plt.subplot(143)\n",
    "    plt.title('Ground truth: {}'.format(gts[2]))\n",
    "    plt.imshow(imgs[2][0], cmap='gray')\n",
    "    plt.subplot(144)\n",
    "    plt.title('Ground truth: {}'.format(gts[3]))\n",
    "    plt.imshow(imgs[3][0], cmap='gray')\n",
    "    plt.show()\n",
    "    break"
   ],
   "metadata": {
    "collapsed": false,
    "pycharm": {
     "name": "#%%\n"
    }
   }
  },
  {
   "cell_type": "code",
   "execution_count": 6,
   "outputs": [],
   "source": [
    "cross_entory_loss = nn.CrossEntropyLoss()\n",
    "softmax = nn.LogSoftmax(dim=-1)\n",
    "\n",
    "def loss_fn(y_pred, y_true):\n",
    "    y_pred = softmax(y_pred)\n",
    "    return cross_entory_loss(y_pred, y_true)"
   ],
   "metadata": {
    "collapsed": false,
    "pycharm": {
     "name": "#%%\n"
    }
   }
  },
  {
   "cell_type": "code",
   "execution_count": 7,
   "outputs": [],
   "source": [
    "def adjust_lr(optimizer, epoch, decay_rate=0.1, decay_epoch=30):\n",
    "    if epoch % decay_epoch == 0:\n",
    "        for param_group in optimizer.param_groups:\n",
    "            param_group['lr'] *= decay_rate"
   ],
   "metadata": {
    "collapsed": false,
    "pycharm": {
     "name": "#%%\n"
    }
   }
  },
  {
   "cell_type": "code",
   "execution_count": 8,
   "outputs": [],
   "source": [
    "def train(train_loader, model, optimizer, epoch):\n",
    "    model.train()\n",
    "    train_loss = 0.0\n",
    "    tbar = tqdm(train_loader, desc='\\r')\n",
    "    for i, packs in enumerate(tbar, start=1):\n",
    "        optimizer.zero_grad()\n",
    "\n",
    "        # Data preparation\n",
    "        imgs, gts = packs\n",
    "        imgs = imgs.cuda()\n",
    "        gts = gts.cuda()\n",
    "\n",
    "        # Forward\n",
    "        preds = model(imgs)\n",
    "\n",
    "        # Calculate loss\n",
    "        loss = loss_fn(preds, gts)\n",
    "        train_loss += loss\n",
    "\n",
    "        # Backward\n",
    "        loss.backward()\n",
    "        optimizer.step()\n",
    "\n",
    "        # Show train loss\n",
    "        tbar.set_description(\"Epoch [{:03d}/{:03d}], Step [{:04d}/{:04d}], Train_loss: {:.4f}\"\n",
    "                .format(epoch, MNISTConfig.EPOCHS, i, len(train_loader), train_loss / i))"
   ],
   "metadata": {
    "collapsed": false,
    "pycharm": {
     "name": "#%%\n"
    }
   }
  },
  {
   "cell_type": "code",
   "execution_count": 9,
   "outputs": [],
   "source": [
    "def evaluation(val_loader, model, epoch, best_val_loss):\n",
    "    model.eval()\n",
    "    val_loss = 0.0\n",
    "    tbar = tqdm(val_loader, desc='\\r')\n",
    "    with torch.no_grad():\n",
    "        for i, packs in enumerate(tbar, start=1):\n",
    "            # Data preparation\n",
    "            imgs, gts = packs\n",
    "            imgs = imgs.cuda()\n",
    "            gts = gts.cuda()\n",
    "\n",
    "            # Forward\n",
    "            preds = model(imgs)\n",
    "\n",
    "            # Calculate val loss\n",
    "            loss = loss_fn(preds, gts)\n",
    "            val_loss += loss\n",
    "\n",
    "            # Show validation loss\n",
    "            tbar.set_description(\"Step [{:04d}/{:04d}], Val_loss: {:.4f}\"\n",
    "                .format(i, len(val_loader), val_loss / i))\n",
    "\n",
    "        if val_loss / len(val_loader) < best_val_loss[-1]:\n",
    "            os.makedirs(MNISTConfig.SAVE_PATH, exist_ok=True)\n",
    "            best_val_loss.append(val_loss / len(val_loader))\n",
    "            print('Curren Best Val_loss: {}, Saving Best Model: {}'.format(best_val_loss[-1], os.path.join(MNISTConfig.SAVE_PATH, 'model-best.pth')))\n",
    "            torch.save(model.state_dict(), os.path.join(MNISTConfig.SAVE_PATH, 'model-best.pth'))"
   ],
   "metadata": {
    "collapsed": false,
    "pycharm": {
     "name": "#%%\n"
    }
   }
  },
  {
   "cell_type": "code",
   "execution_count": 10,
   "outputs": [],
   "source": [
    "model = ResNet50(1, 10)\n",
    "model = model.cuda()\n",
    "parameters = model.parameters()\n",
    "optimizer = torch.optim.AdamW(parameters, lr=MNISTConfig.LR, weight_decay=MNISTConfig.WEIGHT_DECAY)"
   ],
   "metadata": {
    "collapsed": false,
    "pycharm": {
     "name": "#%%\n"
    }
   }
  },
  {
   "cell_type": "code",
   "execution_count": 11,
   "outputs": [
    {
     "name": "stderr",
     "output_type": "stream",
     "text": [
      "Epoch [001/010], Step [0188/0188], Train_loss: 0.2747: 100%|██████████| 188/188 [00:17<00:00, 11.05it/s]\n",
      "Step [0047/0047], Val_loss: 0.1195: 100%|██████████| 47/47 [00:00<00:00, 55.67it/s]\n",
      "Epoch [002/010], Step [0188/0188], Train_loss: 0.0642: 100%|██████████| 188/188 [00:17<00:00, 10.49it/s]\n",
      "Step [0047/0047], Val_loss: 0.1768: 100%|██████████| 47/47 [00:00<00:00, 55.14it/s]\n",
      "Epoch [003/010], Step [0188/0188], Train_loss: 0.0467: 100%|██████████| 188/188 [00:17<00:00, 10.62it/s]\n",
      "Step [0047/0047], Val_loss: 0.1342: 100%|██████████| 47/47 [00:00<00:00, 54.19it/s]\n",
      "Epoch [004/010], Step [0188/0188], Train_loss: 0.0335: 100%|██████████| 188/188 [00:17<00:00, 10.78it/s]\n",
      "Step [0047/0047], Val_loss: 0.0997: 100%|██████████| 47/47 [00:00<00:00, 53.60it/s]\n",
      "Epoch [005/010], Step [0188/0188], Train_loss: 0.0108: 100%|██████████| 188/188 [00:17<00:00, 10.81it/s]\n",
      "Step [0047/0047], Val_loss: 0.0462: 100%|██████████| 47/47 [00:00<00:00, 54.20it/s]\n",
      "Epoch [006/010], Step [0188/0188], Train_loss: 0.0030: 100%|██████████| 188/188 [00:17<00:00, 10.79it/s]\n",
      "Step [0047/0047], Val_loss: 0.0467: 100%|██████████| 47/47 [00:00<00:00, 53.13it/s]\n",
      "Epoch [007/010], Step [0188/0188], Train_loss: 0.0014: 100%|██████████| 188/188 [00:17<00:00, 10.68it/s]\n",
      "Step [0047/0047], Val_loss: 0.0483: 100%|██████████| 47/47 [00:00<00:00, 54.08it/s]\n",
      "Epoch [008/010], Step [0188/0188], Train_loss: 0.0009: 100%|██████████| 188/188 [00:17<00:00, 10.66it/s]\n",
      "Step [0047/0047], Val_loss: 0.0498: 100%|██████████| 47/47 [00:00<00:00, 51.68it/s]\n",
      "Epoch [009/010], Step [0188/0188], Train_loss: 0.0007: 100%|██████████| 188/188 [00:17<00:00, 10.58it/s]\n",
      "Step [0047/0047], Val_loss: 0.0483: 100%|██████████| 47/47 [00:00<00:00, 52.60it/s]\n",
      "Epoch [010/010], Step [0188/0188], Train_loss: 0.0005: 100%|██████████| 188/188 [00:17<00:00, 10.51it/s]\n",
      "Step [0047/0047], Val_loss: 0.0486: 100%|██████████| 47/47 [00:00<00:00, 52.08it/s]\n"
     ]
    },
    {
     "name": "stdout",
     "output_type": "stream",
     "text": [
      "Curren Best Val_loss: 0.11946222186088562, Saving Best Model: models/model-best.pth\n",
      "Curren Best Val_loss: 0.09974803775548935, Saving Best Model: models/model-best.pth\n",
      "Curren Best Val_loss: 0.04620501771569252, Saving Best Model: models/model-best.pth\n"
     ]
    }
   ],
   "source": [
    "best_val_loss = [10]\n",
    "for epoch in range(1, MNISTConfig.EPOCHS+1):\n",
    "    adjust_lr(optimizer, epoch, MNISTConfig.DECAY_RATE, MNISTConfig.DECAY_EPOCH)\n",
    "    train(train_loader, model, optimizer, epoch)\n",
    "    evaluation(val_loader, model, epoch, best_val_loss)"
   ],
   "metadata": {
    "collapsed": false,
    "pycharm": {
     "name": "#%%\n"
    }
   }
  },
  {
   "cell_type": "code",
   "execution_count": 12,
   "outputs": [],
   "source": [
    "test_loader = get_loader(root_dir=MNISTConfig.DATA_PATH,\n",
    "                         transform=transform,\n",
    "                         train=False,\n",
    "                         batchsize=MNISTConfig.BATCH_SIZE)"
   ],
   "metadata": {
    "collapsed": false,
    "pycharm": {
     "name": "#%%\n"
    }
   }
  },
  {
   "cell_type": "code",
   "execution_count": 13,
   "outputs": [],
   "source": [
    "model = ResNet50(1, 10)\n",
    "model.load_state_dict(torch.load('models/model-best.pth'))\n",
    "model = model.cuda()\n",
    "model = model.eval()"
   ],
   "metadata": {
    "collapsed": false,
    "pycharm": {
     "name": "#%%\n"
    }
   }
  },
  {
   "cell_type": "code",
   "execution_count": 14,
   "outputs": [
    {
     "name": "stderr",
     "output_type": "stream",
     "text": [
      "Precision Score: 0.9910056915601974, Recall Score: 0.9906097715030319, F1 Score: 0.9905661220124303: 100%|██████████| 40/40 [00:00<00:00, 49.40it/s]\n"
     ]
    }
   ],
   "source": [
    "# Evaluation on test dataset\n",
    "with torch.no_grad():\n",
    "    precision, recall, f1 = 0.0, 0.0, 0.0\n",
    "    tbar = tqdm(test_loader, desc='\\r')\n",
    "    for i, packs in enumerate(tbar, start=1):\n",
    "        imgs, gts = packs\n",
    "        imgs = imgs.cuda()\n",
    "        gts = gts.cpu().numpy()\n",
    "        preds = model(imgs)\n",
    "        preds = softmax(preds)\n",
    "        preds = preds.cpu().numpy()\n",
    "        preds = np.argmax(preds, axis=1)\n",
    "        precision += precision_score(preds, gts, average='macro')\n",
    "        recall += recall_score(preds, gts, average='macro')\n",
    "        f1 += f1_score(preds, gts, average='macro')\n",
    "        tbar.set_description(\"Precision Score: {}, Recall Score: {}, F1 Score: {}\"\n",
    "                             .format(precision / i, recall / i, f1 / i))"
   ],
   "metadata": {
    "collapsed": false,
    "pycharm": {
     "name": "#%%\n"
    }
   }
  },
  {
   "cell_type": "code",
   "execution_count": 17,
   "outputs": [
    {
     "data": {
      "text/plain": "<Figure size 1152x1152 with 4 Axes>",
      "image/png": "[encoded data removed]"
     },
     "metadata": {
      "needs_background": "light"
     },
     "output_type": "display_data"
    }
   ],
   "source": [
    "# Inference on first 4 test images\n",
    "for imgs, gts in test_loader:\n",
    "    with torch.no_grad():\n",
    "        imgs, gts = imgs.cuda(), gts.cpu().numpy()\n",
    "        preds = model(imgs)\n",
    "        preds = softmax(preds)\n",
    "        preds = preds.cpu().numpy()\n",
    "        preds = np.argmax(preds, axis=1)\n",
    "        imgs = imgs.cpu().numpy()\n",
    "        plt.figure(figsize=(16, 16))\n",
    "        plt.subplot(141)\n",
    "        plt.title('Prediction :{}, Ground Truth: {}'.format(preds[0], gts[0]))\n",
    "        plt.imshow(imgs[0][0], cmap='gray')\n",
    "        plt.subplot(142)\n",
    "        plt.title('Prediction :{}, Ground Truth: {}'.format(preds[1], gts[1]))\n",
    "        plt.imshow(imgs[1][0], cmap='gray')\n",
    "        plt.subplot(143)\n",
    "        plt.title('Prediction :{}, Ground Truth: {}'.format(preds[2], gts[2]))\n",
    "        plt.imshow(imgs[2][0], cmap='gray')\n",
    "        plt.subplot(144)\n",
    "        plt.title('Prediction :{}, Ground Truth: {}'.format(preds[3], gts[3]))\n",
    "        plt.imshow(imgs[3][0], cmap='gray')\n",
    "        plt.show()\n",
    "    break"
   ],
   "metadata": {
    "collapsed": false,
    "pycharm": {
     "name": "#%%\n"
    }
   }
  }
 ],
 "metadata": {
  "kernelspec": {
   "display_name": "Python 3",
   "language": "python",
   "name": "python3"
  },
  "language_info": {
   "codemirror_mode": {
    "name": "ipython",
    "version": 2
   },
   "file_extension": ".py",
   "mimetype": "text/x-python",
   "name": "python",
   "nbconvert_exporter": "python",
   "pygments_lexer": "ipython2",
   "version": "2.7.6"
  }
 },
 "nbformat": 4,
 "nbformat_minor": 0
}